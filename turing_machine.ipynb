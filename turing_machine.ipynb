{
 "cells": [
  {
   "cell_type": "markdown",
   "source": [
    "A very simple implementation of a Turing Machine in Python."
   ],
   "metadata": {}
  },
  {
   "cell_type": "code",
   "execution_count": null,
   "source": [
    "\"\"\"\n",
    "a (one-tape) Turing machine can be formally defined as a 7-tuple M = ⟨ Q , Γ , b , Σ , δ , q 0 , F ⟩ {\\displaystyle M=\\langle Q,\\Gamma ,b,\\Sigma ,\\delta ,q_{0},F\\rangle } M=\\langle Q,\\Gamma ,b,\\Sigma ,\\delta ,q_{0},F\\rangle where\n",
    "\n",
    "    Γ {\\displaystyle \\Gamma } \\Gamma is a finite, non-empty set of tape alphabet symbols;\n",
    "    b ∈ Γ {\\displaystyle b\\in \\Gamma } b\\in \\Gamma is the blank symbol (the only symbol allowed to occur on the tape infinitely often at any step during the computation);\n",
    "    Σ ⊆ Γ ∖ { b } {\\displaystyle \\Sigma \\subseteq \\Gamma \\setminus \\{b\\}} \\Sigma \\subseteq \\Gamma \\setminus \\{b\\} is the set of input symbols, that is, the set of symbols allowed to appear in the initial tape contents;\n",
    "    Q {\\displaystyle Q} Q is a finite, non-empty set of states;\n",
    "    q 0 ∈ Q {\\displaystyle q_{0}\\in Q} q_{0}\\in Q is the initial state;\n",
    "    F ⊆ Q {\\displaystyle F\\subseteq Q} F\\subseteq Q is the set of final states or accepting states. The initial tape contents is said to be accepted by M {\\displaystyle M} M if it eventually halts in a state from F {\\displaystyle F} F.\n",
    "    δ : ( Q ∖ F ) × Γ ↛ Q × Γ × { L , R } {\\displaystyle \\delta :(Q\\setminus F)\\times \\Gamma \\not \\to Q\\times \\Gamma \\times \\{L,R\\}} {\\displaystyle \\delta :(Q\\setminus F)\\times \\Gamma \\not \\to Q\\times \\Gamma \\times \\{L,R\\}} is a partial \n",
    "    function called the transition function, where L is left shift, R is right shift. If δ {\\displaystyle \\delta } \\delta is not defined on the current state and the current tape symbol, then the machine halts;[22] intuitively, the transition function \n",
    "    specifies the next state transited from the current state, which symbol to overwrite the current symbol pointed by the head, and the next head movement.\n",
    "\"\"\""
   ],
   "outputs": [],
   "metadata": {}
  },
  {
   "cell_type": "code",
   "execution_count": 2,
   "source": [
    "N = 1000\n",
    "\n",
    "class TuringMachine:\n",
    "    \"\"\"initialize the Turing Machine, read the program and input\"\"\"\n",
    "    def __init__(self, program, input, state=0):\n",
    "        self.trf = {}\n",
    "        self.state = str(state)\n",
    "        self.tape = ''.join(['_'] * N)\n",
    "        self.head = N // 2\n",
    "        self.tape = self.tape[:self.head] + input + self.tape[self.head:]\n",
    "\n",
    "        for line in program.splitlines():\n",
    "            s, a, r, d, s1 = line.split(' ')\n",
    "            self.trf[(s,a)] = (r,d,s1)\n",
    "\n",
    "        # step through a program\n",
    "        def step(self):\n",
    "            if self.state != 'H':\n",
    "                a = self.tape[self.head]\n",
    "                action = self.trf.get((self.state, a))\n",
    "                if action:\n",
    "                    r, d, s1 = action\n",
    "                    self.tape = self.tape[:self.head] + r + self.tape[self.head+1:]\n",
    "                    if d != '*':\n",
    "                        self.head = self.head + (1 if d == 'r' else -1)\n",
    "                    self.state = s1\n",
    "                    print(self.tape.replace('_', ' '), self.state)\n",
    "\n",
    "        # run a program\n",
    "        def run(self):\n",
    "            iter = 0\n",
    "            while self.state != 'H' and iter < max_iter:\n",
    "                self.step()\n",
    "                iter += 1\n",
    "            print(self.tape.replace('_', ' '), self.state)\n"
   ],
   "outputs": [],
   "metadata": {}
  },
  {
   "cell_type": "code",
   "execution_count": null,
   "source": [],
   "outputs": [],
   "metadata": {}
  }
 ],
 "metadata": {
  "orig_nbformat": 4,
  "language_info": {
   "name": "python",
   "version": "3.9.6",
   "mimetype": "text/x-python",
   "codemirror_mode": {
    "name": "ipython",
    "version": 3
   },
   "pygments_lexer": "ipython3",
   "nbconvert_exporter": "python",
   "file_extension": ".py"
  },
  "kernelspec": {
   "name": "python3",
   "display_name": "Python 3.9.6 64-bit"
  },
  "interpreter": {
   "hash": "aee8b7b246df8f9039afb4144a1f6fd8d2ca17a180786b69acc140d282b71a49"
  }
 },
 "nbformat": 4,
 "nbformat_minor": 2
}